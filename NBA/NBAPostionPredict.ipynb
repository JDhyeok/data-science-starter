{
 "cells": [
  {
   "cell_type": "code",
   "execution_count": 2,
   "id": "frozen-methodology",
   "metadata": {},
   "outputs": [],
   "source": [
    "import numpy as np\n",
    "import matplotlib.pyplot as plt\n",
    "import pandas as pd\n",
    "\n",
    "from sklearn.model_selection import train_test_split\n",
    "from sklearn.linear_model import LinearRegression\n",
    "from sklearn.preprocessing import OneHotEncoder, LabelEncoder"
   ]
  },
  {
   "cell_type": "code",
   "execution_count": 3,
   "id": "silent-storage",
   "metadata": {},
   "outputs": [],
   "source": [
    "# Load the data\n",
    "df = pd.read_csv('../datasets/players_stats.csv')\n",
    "df.columns\n",
    "numeric_columns = df._get_numeric_data()\n",
    "numeric_columns.columns\n",
    "df = df.dropna(axis=0)"
   ]
  },
  {
   "cell_type": "code",
   "execution_count": 4,
   "id": "final-replication",
   "metadata": {},
   "outputs": [],
   "source": [
    "x = df[['PTS', 'FGM', 'FGA', 'FG%', '3PM', '3PA', '3P%',\n",
    "       'FTM', 'FTA', 'FT%', 'OREB', 'DREB', 'REB', 'AST', 'STL', 'BLK', 'TOV',\n",
    "       'PF', 'EFF', 'AST/TOV', 'STL/TOV', 'Age', 'Height', 'Weight', 'BMI']]\n",
    "y = df[['Pos']]"
   ]
  },
  {
   "cell_type": "code",
   "execution_count": 5,
   "id": "threaded-seeker",
   "metadata": {},
   "outputs": [
    {
     "name": "stderr",
     "output_type": "stream",
     "text": [
      "c:\\users\\장동혁\\desktop\\basketball\\data-science-starter\\venv\\lib\\site-packages\\sklearn\\utils\\validation.py:63: DataConversionWarning: A column-vector y was passed when a 1d array was expected. Please change the shape of y to (n_samples, ), for example using ravel().\n",
      "  return f(*args, **kwargs)\n"
     ]
    }
   ],
   "source": [
    "encoder = LabelEncoder()\n",
    "encoder.fit(y)\n",
    "labels = encoder.transform(y)\n",
    "labels = labels.reshape(-1,1)\n",
    "y =labels\n",
    "# # oh_encoder = OneHotEncoder()\n",
    "# # oh_encoder.fit(labels)\n",
    "# # oh_labels = oh_encoder.transform(labels)\n",
    "# # print(oh_labels.toarray())\n",
    "\n",
    "# y = pd.get_dummies(y)\n",
    "# y"
   ]
  },
  {
   "cell_type": "code",
   "execution_count": 6,
   "id": "injured-briefs",
   "metadata": {},
   "outputs": [],
   "source": [
    "# Split the data\n",
    "x_train, x_test, y_train, y_test = train_test_split(x,y,train_size=0.8,test_size=0.2,random_state=2)"
   ]
  },
  {
   "cell_type": "code",
   "execution_count": 7,
   "id": "ambient-combining",
   "metadata": {},
   "outputs": [
    {
     "data": {
      "text/plain": [
       "LinearRegression()"
      ]
     },
     "execution_count": 7,
     "metadata": {},
     "output_type": "execute_result"
    }
   ],
   "source": [
    "# define model\n",
    "model = LinearRegression()\n",
    "model.fit(x_train,y_train)"
   ]
  },
  {
   "cell_type": "code",
   "execution_count": 8,
   "id": "weekly-setup",
   "metadata": {},
   "outputs": [],
   "source": [
    "y_predict = model.predict(x_test)"
   ]
  },
  {
   "cell_type": "code",
   "execution_count": 21,
   "id": "amazing-fitness",
   "metadata": {},
   "outputs": [
    {
     "data": {
      "image/png": "[encoded data removed]",
      "text/plain": [
       "<Figure size 432x288 with 1 Axes>"
      ]
     },
     "metadata": {
      "needs_background": "light"
     },
     "output_type": "display_data"
    }
   ],
   "source": [
    "plt.scatter(y_test, y_predict,alpha=0.4)\n",
    "y_predict= np.ceil(y_predict)\n",
    "plt.show()"
   ]
  },
  {
   "cell_type": "code",
   "execution_count": 20,
   "id": "simple-pepper",
   "metadata": {},
   "outputs": [
    {
     "data": {
      "text/plain": [
       "0.20357142857142857"
      ]
     },
     "execution_count": 20,
     "metadata": {},
     "output_type": "execute_result"
    }
   ],
   "source": [
    "m = x_train.shape[0]\n",
    "mse = 1/(2*m)*np.sum((y_predict-y_test)**2)\n",
    "mse"
   ]
  },
  {
   "cell_type": "code",
   "execution_count": null,
   "id": "palestinian-sheet",
   "metadata": {},
   "outputs": [],
   "source": []
  }
 ],
 "metadata": {
  "kernelspec": {
   "display_name": "Python 3",
   "language": "python",
   "name": "python3"
  },
  "language_info": {
   "codemirror_mode": {
    "name": "ipython",
    "version": 3
   },
   "file_extension": ".py",
   "mimetype": "text/x-python",
   "name": "python",
   "nbconvert_exporter": "python",
   "pygments_lexer": "ipython3",
   "version": "3.8.5"
  }
 },
 "nbformat": 4,
 "nbformat_minor": 5
}
