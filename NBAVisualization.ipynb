{
 "cells": [
  {
   "cell_type": "code",
   "execution_count": 2,
   "id": "wrong-compensation",
   "metadata": {},
   "outputs": [],
   "source": [
    "import numpy as np\n",
    "import seaborn as sns\n",
    "import matplotlib.pyplot as plt\n",
    "import pandas as pd"
   ]
  },
  {
   "cell_type": "code",
   "execution_count": 3,
   "id": "distant-routine",
   "metadata": {},
   "outputs": [],
   "source": [
    "# Load the data\n",
    "nba_dataset = pd.read_csv('players_stats.csv')"
   ]
  },
  {
   "cell_type": "code",
   "execution_count": 4,
   "id": "alternative-hawaiian",
   "metadata": {},
   "outputs": [
    {
     "data": {
      "text/plain": [
       "Index(['Name', 'Games Played', 'MIN', 'PTS', 'FGM', 'FGA', 'FG%', '3PM', '3PA',\n",
       "       '3P%', 'FTM', 'FTA', 'FT%', 'OREB', 'DREB', 'REB', 'AST', 'STL', 'BLK',\n",
       "       'TOV', 'PF', 'EFF', 'AST/TOV', 'STL/TOV', 'Age', 'Birth_Place',\n",
       "       'Birthdate', 'Collage', 'Experience', 'Height', 'Pos', 'Team', 'Weight',\n",
       "       'BMI'],\n",
       "      dtype='object')"
      ]
     },
     "execution_count": 4,
     "metadata": {},
     "output_type": "execute_result"
    }
   ],
   "source": [
    "nba_dataset.columns"
   ]
  },
  {
   "cell_type": "code",
   "execution_count": 5,
   "id": "faced-presence",
   "metadata": {},
   "outputs": [
    {
     "data": {
      "text/html": [
       "<div>\n",
       "<style scoped>\n",
       "    .dataframe tbody tr th:only-of-type {\n",
       "        vertical-align: middle;\n",
       "    }\n",
       "\n",
       "    .dataframe tbody tr th {\n",
       "        vertical-align: top;\n",
       "    }\n",
       "\n",
       "    .dataframe thead th {\n",
       "        text-align: right;\n",
       "    }\n",
       "</style>\n",
       "<table border=\"1\" class=\"dataframe\">\n",
       "  <thead>\n",
       "    <tr style=\"text-align: right;\">\n",
       "      <th></th>\n",
       "      <th>Name</th>\n",
       "      <th>Games Played</th>\n",
       "      <th>MIN</th>\n",
       "      <th>PTS</th>\n",
       "      <th>FGM</th>\n",
       "      <th>FGA</th>\n",
       "      <th>FG%</th>\n",
       "      <th>3PM</th>\n",
       "      <th>3PA</th>\n",
       "      <th>3P%</th>\n",
       "      <th>...</th>\n",
       "      <th>Age</th>\n",
       "      <th>Birth_Place</th>\n",
       "      <th>Birthdate</th>\n",
       "      <th>Collage</th>\n",
       "      <th>Experience</th>\n",
       "      <th>Height</th>\n",
       "      <th>Pos</th>\n",
       "      <th>Team</th>\n",
       "      <th>Weight</th>\n",
       "      <th>BMI</th>\n",
       "    </tr>\n",
       "  </thead>\n",
       "  <tbody>\n",
       "    <tr>\n",
       "      <th>0</th>\n",
       "      <td>AJ Price</td>\n",
       "      <td>26</td>\n",
       "      <td>324</td>\n",
       "      <td>133</td>\n",
       "      <td>51</td>\n",
       "      <td>137</td>\n",
       "      <td>37.2</td>\n",
       "      <td>15</td>\n",
       "      <td>57</td>\n",
       "      <td>26.3</td>\n",
       "      <td>...</td>\n",
       "      <td>29.0</td>\n",
       "      <td>us</td>\n",
       "      <td>October 7, 1986</td>\n",
       "      <td>University of Connecticut</td>\n",
       "      <td>5</td>\n",
       "      <td>185.0</td>\n",
       "      <td>PG</td>\n",
       "      <td>PHO</td>\n",
       "      <td>81.45</td>\n",
       "      <td>23.798393</td>\n",
       "    </tr>\n",
       "    <tr>\n",
       "      <th>1</th>\n",
       "      <td>Aaron Brooks</td>\n",
       "      <td>82</td>\n",
       "      <td>1885</td>\n",
       "      <td>954</td>\n",
       "      <td>344</td>\n",
       "      <td>817</td>\n",
       "      <td>42.1</td>\n",
       "      <td>121</td>\n",
       "      <td>313</td>\n",
       "      <td>38.7</td>\n",
       "      <td>...</td>\n",
       "      <td>30.0</td>\n",
       "      <td>us</td>\n",
       "      <td>January 14, 1985</td>\n",
       "      <td>University of Oregon</td>\n",
       "      <td>6</td>\n",
       "      <td>180.0</td>\n",
       "      <td>PG</td>\n",
       "      <td>CHI</td>\n",
       "      <td>72.45</td>\n",
       "      <td>22.361111</td>\n",
       "    </tr>\n",
       "    <tr>\n",
       "      <th>2</th>\n",
       "      <td>Aaron Gordon</td>\n",
       "      <td>47</td>\n",
       "      <td>797</td>\n",
       "      <td>243</td>\n",
       "      <td>93</td>\n",
       "      <td>208</td>\n",
       "      <td>44.7</td>\n",
       "      <td>13</td>\n",
       "      <td>48</td>\n",
       "      <td>27.1</td>\n",
       "      <td>...</td>\n",
       "      <td>20.0</td>\n",
       "      <td>us</td>\n",
       "      <td>September 16, 1995</td>\n",
       "      <td>University of Arizona</td>\n",
       "      <td>R</td>\n",
       "      <td>202.5</td>\n",
       "      <td>PF</td>\n",
       "      <td>ORL</td>\n",
       "      <td>99.00</td>\n",
       "      <td>24.142661</td>\n",
       "    </tr>\n",
       "    <tr>\n",
       "      <th>3</th>\n",
       "      <td>Adreian Payne</td>\n",
       "      <td>32</td>\n",
       "      <td>740</td>\n",
       "      <td>213</td>\n",
       "      <td>91</td>\n",
       "      <td>220</td>\n",
       "      <td>41.4</td>\n",
       "      <td>1</td>\n",
       "      <td>9</td>\n",
       "      <td>11.1</td>\n",
       "      <td>...</td>\n",
       "      <td>24.0</td>\n",
       "      <td>us</td>\n",
       "      <td>February 19, 1991</td>\n",
       "      <td>Michigan State University</td>\n",
       "      <td>R</td>\n",
       "      <td>205.0</td>\n",
       "      <td>PF</td>\n",
       "      <td>ATL</td>\n",
       "      <td>106.65</td>\n",
       "      <td>25.377751</td>\n",
       "    </tr>\n",
       "    <tr>\n",
       "      <th>4</th>\n",
       "      <td>Al Horford</td>\n",
       "      <td>76</td>\n",
       "      <td>2318</td>\n",
       "      <td>1156</td>\n",
       "      <td>519</td>\n",
       "      <td>965</td>\n",
       "      <td>53.8</td>\n",
       "      <td>11</td>\n",
       "      <td>36</td>\n",
       "      <td>30.6</td>\n",
       "      <td>...</td>\n",
       "      <td>29.0</td>\n",
       "      <td>do</td>\n",
       "      <td>June 3, 1986</td>\n",
       "      <td>University of Florida</td>\n",
       "      <td>7</td>\n",
       "      <td>205.0</td>\n",
       "      <td>C</td>\n",
       "      <td>ATL</td>\n",
       "      <td>110.25</td>\n",
       "      <td>26.234384</td>\n",
       "    </tr>\n",
       "  </tbody>\n",
       "</table>\n",
       "<p>5 rows × 34 columns</p>\n",
       "</div>"
      ],
      "text/plain": [
       "            Name  Games Played   MIN   PTS  FGM  FGA   FG%  3PM  3PA   3P%  \\\n",
       "0       AJ Price            26   324   133   51  137  37.2   15   57  26.3   \n",
       "1   Aaron Brooks            82  1885   954  344  817  42.1  121  313  38.7   \n",
       "2   Aaron Gordon            47   797   243   93  208  44.7   13   48  27.1   \n",
       "3  Adreian Payne            32   740   213   91  220  41.4    1    9  11.1   \n",
       "4     Al Horford            76  2318  1156  519  965  53.8   11   36  30.6   \n",
       "\n",
       "   ...   Age  Birth_Place           Birthdate                    Collage  \\\n",
       "0  ...  29.0           us     October 7, 1986  University of Connecticut   \n",
       "1  ...  30.0           us    January 14, 1985       University of Oregon   \n",
       "2  ...  20.0           us  September 16, 1995      University of Arizona   \n",
       "3  ...  24.0           us   February 19, 1991  Michigan State University   \n",
       "4  ...  29.0           do        June 3, 1986      University of Florida   \n",
       "\n",
       "   Experience  Height  Pos  Team  Weight        BMI  \n",
       "0           5   185.0   PG   PHO   81.45  23.798393  \n",
       "1           6   180.0   PG   CHI   72.45  22.361111  \n",
       "2           R   202.5   PF   ORL   99.00  24.142661  \n",
       "3           R   205.0   PF   ATL  106.65  25.377751  \n",
       "4           7   205.0    C   ATL  110.25  26.234384  \n",
       "\n",
       "[5 rows x 34 columns]"
      ]
     },
     "execution_count": 5,
     "metadata": {},
     "output_type": "execute_result"
    }
   ],
   "source": [
    "nba_dataset.head()"
   ]
  },
  {
   "cell_type": "code",
   "execution_count": 6,
   "id": "extraordinary-austin",
   "metadata": {},
   "outputs": [
    {
     "data": {
      "text/plain": [
       "Games Played      53.014286\n",
       "MIN             1214.714286\n",
       "PTS              502.108163\n",
       "FGM              188.338776\n",
       "FGA              419.526531\n",
       "FG%               43.099184\n",
       "3PM               39.387755\n",
       "3PA              112.524490\n",
       "3P%               25.519184\n",
       "FTM               86.042857\n",
       "FTA              114.689796\n",
       "FT%               70.450408\n",
       "OREB              54.655102\n",
       "DREB             162.697959\n",
       "REB              217.353061\n",
       "AST              110.616327\n",
       "STL               38.838776\n",
       "BLK               24.075510\n",
       "TOV               68.826531\n",
       "PF               101.483673\n",
       "EFF              564.330612\n",
       "AST/TOV            1.465837\n",
       "STL/TOV            0.626000\n",
       "Age               27.507109\n",
       "Height           197.440758\n",
       "Weight            99.469194\n",
       "BMI               25.427747\n",
       "dtype: float64"
      ]
     },
     "execution_count": 6,
     "metadata": {},
     "output_type": "execute_result"
    }
   ],
   "source": [
    "nba_dataset.mean()"
   ]
  },
  {
   "cell_type": "code",
   "execution_count": 7,
   "id": "orange-wales",
   "metadata": {},
   "outputs": [
    {
     "data": {
      "text/plain": [
       "<seaborn.axisgrid.PairGrid at 0x1c1a90d0>"
      ]
     },
     "execution_count": 7,
     "metadata": {},
     "output_type": "execute_result"
    },
    {
     "data": {
      "image/png": "[encoded data removed]",
      "text/plain": [
       "<Figure size 360x360 with 6 Axes>"
      ]
     },
     "metadata": {
      "needs_background": "light"
     },
     "output_type": "display_data"
    }
   ],
   "source": [
    "sns.pairplot(nba_dataset[['FGM','AST']])"
   ]
  },
  {
   "cell_type": "code",
   "execution_count": 8,
   "id": "utility-richmond",
   "metadata": {},
   "outputs": [
    {
     "data": {
      "text/html": [
       "<div>\n",
       "<style scoped>\n",
       "    .dataframe tbody tr th:only-of-type {\n",
       "        vertical-align: middle;\n",
       "    }\n",
       "\n",
       "    .dataframe tbody tr th {\n",
       "        vertical-align: top;\n",
       "    }\n",
       "\n",
       "    .dataframe thead th {\n",
       "        text-align: right;\n",
       "    }\n",
       "</style>\n",
       "<table border=\"1\" class=\"dataframe\">\n",
       "  <thead>\n",
       "    <tr style=\"text-align: right;\">\n",
       "      <th></th>\n",
       "      <th>FGM</th>\n",
       "      <th>AST</th>\n",
       "    </tr>\n",
       "  </thead>\n",
       "  <tbody>\n",
       "    <tr>\n",
       "      <th>FGM</th>\n",
       "      <td>1.000000</td>\n",
       "      <td>0.704545</td>\n",
       "    </tr>\n",
       "    <tr>\n",
       "      <th>AST</th>\n",
       "      <td>0.704545</td>\n",
       "      <td>1.000000</td>\n",
       "    </tr>\n",
       "  </tbody>\n",
       "</table>\n",
       "</div>"
      ],
      "text/plain": [
       "          FGM       AST\n",
       "FGM  1.000000  0.704545\n",
       "AST  0.704545  1.000000"
      ]
     },
     "execution_count": 8,
     "metadata": {},
     "output_type": "execute_result"
    }
   ],
   "source": [
    "# Make Heat map to see correlations\n",
    "nba_dataset[['FGM','AST']].corr()"
   ]
  },
  {
   "cell_type": "code",
   "execution_count": 9,
   "id": "reserved-canal",
   "metadata": {},
   "outputs": [
    {
     "data": {
      "text/plain": [
       "array([1, 0, 4, 4, 2, 0, 3, 4, 1, 3, 4, 4, 3, 4, 4, 3, 0, 4, 1, 2, 0, 3,\n",
       "       4, 4, 1, 3, 1, 2, 4, 2, 3, 3, 4, 1, 3, 0, 1, 3, 0, 4, 0, 3, 1, 3,\n",
       "       2, 3, 0, 0, 3, 0, 1, 3, 0, 1, 1, 3, 2, 1, 1, 3, 1, 3, 0, 3, 3, 1,\n",
       "       0, 3, 4, 3, 4, 3, 4, 1, 1, 3, 2, 1, 4, 0, 1, 4, 1, 3, 4, 0, 4, 3,\n",
       "       0, 0, 1, 2, 4, 3, 4, 0, 3, 3, 1, 1, 4, 3, 4, 1, 1, 0, 2, 1, 0, 2,\n",
       "       0, 3, 0, 2, 3, 3, 3, 1, 4, 0, 2, 4, 0, 4, 1, 2, 4, 1, 1, 3, 1, 0,\n",
       "       1, 1, 0, 1, 0, 4, 1, 1, 2, 2, 0, 1, 3, 1, 3, 0, 4, 1, 4, 1, 4, 4,\n",
       "       3, 3, 3, 0, 1, 2, 1, 4, 1, 1, 2, 2, 0, 1, 2, 1, 1, 0, 0, 3, 4, 3,\n",
       "       4, 3, 1, 4, 3, 4, 0, 4, 3, 4, 4, 1, 3, 4, 1, 0, 3, 4, 2, 3, 4, 1,\n",
       "       1, 1, 1, 1, 3, 3, 1, 0, 4, 1, 3, 3, 0, 1, 1, 1, 0, 0, 1, 1, 3, 1,\n",
       "       1, 4, 0, 1, 1, 3, 1, 2, 3, 0, 0, 3, 1, 3, 2, 1, 4, 4, 1, 3, 1, 1,\n",
       "       1, 2, 1, 4, 3, 0, 1, 3, 1, 1, 0, 1, 3, 1, 0, 0, 3, 1, 4, 4, 3, 1,\n",
       "       0, 3, 0, 1, 4, 0, 3, 0, 1, 3, 4, 2, 3, 3, 0, 3, 3, 2, 3, 3, 4, 3,\n",
       "       1, 0, 2, 4, 3, 2, 2, 3, 3, 1, 3, 1, 4, 4, 4, 2, 1, 4, 4, 0, 0, 1,\n",
       "       0, 4, 4, 0, 1, 3, 2, 2, 3, 0, 3, 4, 0, 4, 2, 3, 1, 0, 0, 0, 4, 3,\n",
       "       4, 4, 4, 0, 3, 0, 3, 4, 4, 3, 4, 1, 4, 4, 0, 2, 4, 1, 1, 3, 0, 4,\n",
       "       4, 1, 4, 0, 4, 0, 4, 2, 1, 3, 3, 1, 0, 3, 3, 4, 3, 1, 0, 4, 2, 1,\n",
       "       2, 0, 4, 4, 4, 4, 0, 3, 1, 3, 0, 4, 4, 3, 3, 1, 1, 4, 0, 1, 3, 1,\n",
       "       4, 4, 0, 4, 3, 4, 0, 4, 1, 0, 2, 0, 1, 2, 3, 1, 4, 4, 1, 1, 0, 4,\n",
       "       1, 4, 4, 3, 1, 3, 1, 4, 4, 1, 4, 1, 0, 1, 3, 2, 3, 1, 3, 3, 3, 3,\n",
       "       4, 0, 4, 0, 4, 4, 2, 1, 3, 0, 4, 0, 1, 3, 0, 3, 4, 1, 4, 2, 3, 0,\n",
       "       0, 1, 2, 1, 4, 4, 0, 2, 1, 0, 4, 1, 1, 2, 4, 3, 0, 0, 4, 1, 1, 4,\n",
       "       0, 1, 0, 2, 3, 1])"
      ]
     },
     "execution_count": 9,
     "metadata": {},
     "output_type": "execute_result"
    }
   ],
   "source": [
    "# Make the cluster of players using kMeans\n",
    "from sklearn.cluster import KMeans\n",
    "\n",
    "kmeans_model = KMeans(n_clusters=5, random_state=1)\n",
    "good_columns = nba_dataset._get_numeric_data().dropna(axis=1) # get numeric data and remove missing data from the columns\n",
    "kmeans_model.fit(good_columns) # Train the model\n",
    "labels = kmeans_model.labels_ # Get the lables\n",
    "labels"
   ]
  },
  {
   "cell_type": "code",
   "execution_count": 10,
   "id": "unexpected-concentration",
   "metadata": {},
   "outputs": [
    {
     "data": {
      "image/png": "[encoded data removed]",
      "text/plain": [
       "<Figure size 432x288 with 1 Axes>"
      ]
     },
     "metadata": {
      "needs_background": "light"
     },
     "output_type": "display_data"
    }
   ],
   "source": [
    "# Plot players by cluster\n",
    "from sklearn.decomposition import PCA\n",
    "\n",
    "pca = PCA(2)\n",
    "plot_columns = pca.fit_transform(good_columns)\n",
    "plt.scatter(x=plot_columns[:,0], y=plot_columns[:,1], c=labels)\n",
    "plt.show()"
   ]
  },
  {
   "cell_type": "code",
   "execution_count": 25,
   "id": "opposed-moldova",
   "metadata": {},
   "outputs": [
    {
     "data": {
      "text/html": [
       "<div>\n",
       "<style scoped>\n",
       "    .dataframe tbody tr th:only-of-type {\n",
       "        vertical-align: middle;\n",
       "    }\n",
       "\n",
       "    .dataframe tbody tr th {\n",
       "        vertical-align: top;\n",
       "    }\n",
       "\n",
       "    .dataframe thead th {\n",
       "        text-align: right;\n",
       "    }\n",
       "</style>\n",
       "<table border=\"1\" class=\"dataframe\">\n",
       "  <thead>\n",
       "    <tr style=\"text-align: right;\">\n",
       "      <th></th>\n",
       "      <th>Games Played</th>\n",
       "      <th>MIN</th>\n",
       "      <th>PTS</th>\n",
       "      <th>FGM</th>\n",
       "      <th>FGA</th>\n",
       "      <th>FG%</th>\n",
       "      <th>3PM</th>\n",
       "      <th>3PA</th>\n",
       "      <th>3P%</th>\n",
       "      <th>FTM</th>\n",
       "      <th>...</th>\n",
       "      <th>DREB</th>\n",
       "      <th>REB</th>\n",
       "      <th>AST</th>\n",
       "      <th>STL</th>\n",
       "      <th>BLK</th>\n",
       "      <th>TOV</th>\n",
       "      <th>PF</th>\n",
       "      <th>EFF</th>\n",
       "      <th>AST/TOV</th>\n",
       "      <th>STL/TOV</th>\n",
       "    </tr>\n",
       "  </thead>\n",
       "  <tbody>\n",
       "    <tr>\n",
       "      <th>125</th>\n",
       "      <td>79</td>\n",
       "      <td>2490</td>\n",
       "      <td>921</td>\n",
       "      <td>339</td>\n",
       "      <td>765</td>\n",
       "      <td>44.3</td>\n",
       "      <td>111</td>\n",
       "      <td>329</td>\n",
       "      <td>33.7</td>\n",
       "      <td>132</td>\n",
       "      <td>...</td>\n",
       "      <td>533</td>\n",
       "      <td>647</td>\n",
       "      <td>291</td>\n",
       "      <td>123</td>\n",
       "      <td>99</td>\n",
       "      <td>133</td>\n",
       "      <td>253</td>\n",
       "      <td>1454</td>\n",
       "      <td>2.19</td>\n",
       "      <td>0.93</td>\n",
       "    </tr>\n",
       "  </tbody>\n",
       "</table>\n",
       "<p>1 rows × 23 columns</p>\n",
       "</div>"
      ],
      "text/plain": [
       "     Games Played   MIN  PTS  FGM  FGA   FG%  3PM  3PA   3P%  FTM  ...  DREB  \\\n",
       "125            79  2490  921  339  765  44.3  111  329  33.7  132  ...   533   \n",
       "\n",
       "     REB  AST  STL  BLK  TOV   PF   EFF  AST/TOV  STL/TOV  \n",
       "125  647  291  123   99  133  253  1454     2.19     0.93  \n",
       "\n",
       "[1 rows x 23 columns]"
      ]
     },
     "execution_count": 25,
     "metadata": {},
     "output_type": "execute_result"
    }
   ],
   "source": [
    "Lebron = good_columns.loc[nba_dataset['Name'] == 'LeBron James',: ]\n",
    "Lebron\n",
    "\n",
    "Durant = good_columns.loc[nba_dataset['Name'] == 'Kevin Durant',: ]\n",
    "Durant\n",
    "\n",
    "Stephen = good_columns.loc[nba_dataset['Name'] == 'Stephen Curry',:]\n",
    "Stephen\n",
    "\n",
    "Klay = good_columns.loc[nba_dataset['Name'] == 'Klay Thompson']\n",
    "Klay\n",
    "\n",
    "James = good_columns.loc[nba_dataset['Name'] == 'James Harden']\n",
    "James\n",
    "\n",
    "Kobe = good_columns.loc[nba_dataset['Name'] == 'Kobe Bryant']\n",
    "Kobe\n",
    "\n",
    "Draymond = good_columns.loc[nba_dataset['Name'] == 'Draymond Green']\n",
    "Draymond"
   ]
  },
  {
   "cell_type": "code",
   "execution_count": 26,
   "id": "recorded-pathology",
   "metadata": {},
   "outputs": [
    {
     "name": "stdout",
     "output_type": "stream",
     "text": [
      "[2]\n",
      "[3]\n",
      "[2]\n",
      "[2]\n",
      "[2]\n",
      "[3]\n",
      "[2]\n"
     ]
    }
   ],
   "source": [
    "LeBron_list = Lebron.values.tolist()\n",
    "Durant_list = Durant.values.tolist()\n",
    "Stephen_list = Stephen.values.tolist()\n",
    "Klay_list = Klay.values.tolist()\n",
    "James_list = James.values.tolist()\n",
    "Kobe_list = Kobe.values.tolist()\n",
    "Draymond_list = Draymond.values.tolist()\n",
    "\n",
    "print(kmeans_model.predict(LeBron_list))\n",
    "print(kmeans_model.predict(Durant_list))\n",
    "print(kmeans_model.predict(Stephen_list))\n",
    "print(kmeans_model.predict(Klay_list))\n",
    "print(kmeans_model.predict(James_list))\n",
    "print(kmeans_model.predict(Kobe_list))\n",
    "print(kmeans_model.predict(Draymond_list))\n"
   ]
  },
  {
   "cell_type": "code",
   "execution_count": null,
   "id": "cosmetic-trade",
   "metadata": {},
   "outputs": [],
   "source": []
  }
 ],
 "metadata": {
  "kernelspec": {
   "display_name": "Python 3",
   "language": "python",
   "name": "python3"
  },
  "language_info": {
   "codemirror_mode": {
    "name": "ipython",
    "version": 3
   },
   "file_extension": ".py",
   "mimetype": "text/x-python",
   "name": "python",
   "nbconvert_exporter": "python",
   "pygments_lexer": "ipython3",
   "version": "3.8.3"
  }
 },
 "nbformat": 4,
 "nbformat_minor": 5
}
