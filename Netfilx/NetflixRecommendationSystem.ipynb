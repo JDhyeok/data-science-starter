{
 "cells": [
  {
   "cell_type": "markdown",
   "id": "global-sullivan",
   "metadata": {},
   "source": [
    "# Recommendation System Using Word2Vec"
   ]
  },
  {
   "cell_type": "code",
   "execution_count": 17,
   "id": "absolute-morgan",
   "metadata": {},
   "outputs": [],
   "source": [
    "import numpy as np\n",
    "import matplotlib.pyplot as plt\n",
    "import pandas as pd\n",
    "import seaborn as sns\n",
    "\n",
    "import os"
   ]
  },
  {
   "cell_type": "markdown",
   "id": "successful-manor",
   "metadata": {},
   "source": [
    "## Data Load"
   ]
  },
  {
   "cell_type": "code",
   "execution_count": 18,
   "id": "subjective-sheep",
   "metadata": {
    "scrolled": true
   },
   "outputs": [
    {
     "name": "stdout",
     "output_type": "stream",
     "text": [
      "7787\n"
     ]
    },
    {
     "data": {
      "text/html": [
       "<div>\n",
       "<style scoped>\n",
       "    .dataframe tbody tr th:only-of-type {\n",
       "        vertical-align: middle;\n",
       "    }\n",
       "\n",
       "    .dataframe tbody tr th {\n",
       "        vertical-align: top;\n",
       "    }\n",
       "\n",
       "    .dataframe thead th {\n",
       "        text-align: right;\n",
       "    }\n",
       "</style>\n",
       "<table border=\"1\" class=\"dataframe\">\n",
       "  <thead>\n",
       "    <tr style=\"text-align: right;\">\n",
       "      <th></th>\n",
       "      <th>show_id</th>\n",
       "      <th>type</th>\n",
       "      <th>title</th>\n",
       "      <th>director</th>\n",
       "      <th>cast</th>\n",
       "      <th>country</th>\n",
       "      <th>date_added</th>\n",
       "      <th>release_year</th>\n",
       "      <th>rating</th>\n",
       "      <th>duration</th>\n",
       "      <th>listed_in</th>\n",
       "      <th>description</th>\n",
       "    </tr>\n",
       "  </thead>\n",
       "  <tbody>\n",
       "    <tr>\n",
       "      <th>0</th>\n",
       "      <td>s1</td>\n",
       "      <td>TV Show</td>\n",
       "      <td>3%</td>\n",
       "      <td>NaN</td>\n",
       "      <td>João Miguel, Bianca Comparato, Michel Gomes, R...</td>\n",
       "      <td>Brazil</td>\n",
       "      <td>August 14, 2020</td>\n",
       "      <td>2020</td>\n",
       "      <td>TV-MA</td>\n",
       "      <td>4 Seasons</td>\n",
       "      <td>International TV Shows, TV Dramas, TV Sci-Fi &amp;...</td>\n",
       "      <td>In a future where the elite inhabit an island ...</td>\n",
       "    </tr>\n",
       "    <tr>\n",
       "      <th>1</th>\n",
       "      <td>s2</td>\n",
       "      <td>Movie</td>\n",
       "      <td>7:19</td>\n",
       "      <td>Jorge Michel Grau</td>\n",
       "      <td>Demián Bichir, Héctor Bonilla, Oscar Serrano, ...</td>\n",
       "      <td>Mexico</td>\n",
       "      <td>December 23, 2016</td>\n",
       "      <td>2016</td>\n",
       "      <td>TV-MA</td>\n",
       "      <td>93 min</td>\n",
       "      <td>Dramas, International Movies</td>\n",
       "      <td>After a devastating earthquake hits Mexico Cit...</td>\n",
       "    </tr>\n",
       "    <tr>\n",
       "      <th>2</th>\n",
       "      <td>s3</td>\n",
       "      <td>Movie</td>\n",
       "      <td>23:59</td>\n",
       "      <td>Gilbert Chan</td>\n",
       "      <td>Tedd Chan, Stella Chung, Henley Hii, Lawrence ...</td>\n",
       "      <td>Singapore</td>\n",
       "      <td>December 20, 2018</td>\n",
       "      <td>2011</td>\n",
       "      <td>R</td>\n",
       "      <td>78 min</td>\n",
       "      <td>Horror Movies, International Movies</td>\n",
       "      <td>When an army recruit is found dead, his fellow...</td>\n",
       "    </tr>\n",
       "    <tr>\n",
       "      <th>3</th>\n",
       "      <td>s4</td>\n",
       "      <td>Movie</td>\n",
       "      <td>9</td>\n",
       "      <td>Shane Acker</td>\n",
       "      <td>Elijah Wood, John C. Reilly, Jennifer Connelly...</td>\n",
       "      <td>United States</td>\n",
       "      <td>November 16, 2017</td>\n",
       "      <td>2009</td>\n",
       "      <td>PG-13</td>\n",
       "      <td>80 min</td>\n",
       "      <td>Action &amp; Adventure, Independent Movies, Sci-Fi...</td>\n",
       "      <td>In a postapocalyptic world, rag-doll robots hi...</td>\n",
       "    </tr>\n",
       "    <tr>\n",
       "      <th>4</th>\n",
       "      <td>s5</td>\n",
       "      <td>Movie</td>\n",
       "      <td>21</td>\n",
       "      <td>Robert Luketic</td>\n",
       "      <td>Jim Sturgess, Kevin Spacey, Kate Bosworth, Aar...</td>\n",
       "      <td>United States</td>\n",
       "      <td>January 1, 2020</td>\n",
       "      <td>2008</td>\n",
       "      <td>PG-13</td>\n",
       "      <td>123 min</td>\n",
       "      <td>Dramas</td>\n",
       "      <td>A brilliant group of students become card-coun...</td>\n",
       "    </tr>\n",
       "  </tbody>\n",
       "</table>\n",
       "</div>"
      ],
      "text/plain": [
       "  show_id     type  title           director  \\\n",
       "0      s1  TV Show     3%                NaN   \n",
       "1      s2    Movie   7:19  Jorge Michel Grau   \n",
       "2      s3    Movie  23:59       Gilbert Chan   \n",
       "3      s4    Movie      9        Shane Acker   \n",
       "4      s5    Movie     21     Robert Luketic   \n",
       "\n",
       "                                                cast        country  \\\n",
       "0  João Miguel, Bianca Comparato, Michel Gomes, R...         Brazil   \n",
       "1  Demián Bichir, Héctor Bonilla, Oscar Serrano, ...         Mexico   \n",
       "2  Tedd Chan, Stella Chung, Henley Hii, Lawrence ...      Singapore   \n",
       "3  Elijah Wood, John C. Reilly, Jennifer Connelly...  United States   \n",
       "4  Jim Sturgess, Kevin Spacey, Kate Bosworth, Aar...  United States   \n",
       "\n",
       "          date_added  release_year rating   duration  \\\n",
       "0    August 14, 2020          2020  TV-MA  4 Seasons   \n",
       "1  December 23, 2016          2016  TV-MA     93 min   \n",
       "2  December 20, 2018          2011      R     78 min   \n",
       "3  November 16, 2017          2009  PG-13     80 min   \n",
       "4    January 1, 2020          2008  PG-13    123 min   \n",
       "\n",
       "                                           listed_in  \\\n",
       "0  International TV Shows, TV Dramas, TV Sci-Fi &...   \n",
       "1                       Dramas, International Movies   \n",
       "2                Horror Movies, International Movies   \n",
       "3  Action & Adventure, Independent Movies, Sci-Fi...   \n",
       "4                                             Dramas   \n",
       "\n",
       "                                         description  \n",
       "0  In a future where the elite inhabit an island ...  \n",
       "1  After a devastating earthquake hits Mexico Cit...  \n",
       "2  When an army recruit is found dead, his fellow...  \n",
       "3  In a postapocalyptic world, rag-doll robots hi...  \n",
       "4  A brilliant group of students become card-coun...  "
      ]
     },
     "execution_count": 18,
     "metadata": {},
     "output_type": "execute_result"
    }
   ],
   "source": [
    "df = pd.read_csv(\"../datasets/netflix_titles.csv\")\n",
    "print(len(df))\n",
    "df.head(5)"
   ]
  },
  {
   "cell_type": "markdown",
   "id": "needed-convention",
   "metadata": {},
   "source": [
    "## Data Visualization"
   ]
  },
  {
   "cell_type": "code",
   "execution_count": 19,
   "id": "separated-cooling",
   "metadata": {},
   "outputs": [
    {
     "data": {
      "image/png": "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\n",
      "text/plain": [
       "<Figure size 576x432 with 1 Axes>"
      ]
     },
     "metadata": {
      "needs_background": "light"
     },
     "output_type": "display_data"
    }
   ],
   "source": [
    "plt.figure(figsize=(8,6))\n",
    "ax = sns.countplot(x=df['type'],palette='Set2')"
   ]
  },
  {
   "cell_type": "code",
   "execution_count": 20,
   "id": "narrative-marina",
   "metadata": {},
   "outputs": [
    {
     "data": {
      "text/plain": [
       "(array([0, 1, 2, 3, 4, 5, 6, 7, 8, 9]),\n",
       " [Text(0, 0, 'Documentaries'),\n",
       "  Text(1, 0, 'Stand-Up Comedy'),\n",
       "  Text(2, 0, 'Dramas, International Movies'),\n",
       "  Text(3, 0, 'Comedies, Dramas, International Movies'),\n",
       "  Text(4, 0, 'Dramas, Independent Movies, International Movies'),\n",
       "  Text(5, 0, \"Kids' TV\"),\n",
       "  Text(6, 0, 'Children & Family Movies'),\n",
       "  Text(7, 0, 'Documentaries, International Movies'),\n",
       "  Text(8, 0, 'Children & Family Movies, Comedies'),\n",
       "  Text(9, 0, 'Comedies, International Movies')])"
      ]
     },
     "execution_count": 20,
     "metadata": {},
     "output_type": "execute_result"
    },
    {
     "data": {
      "image/png": "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\n",
      "text/plain": [
       "<Figure size 864x576 with 1 Axes>"
      ]
     },
     "metadata": {
      "needs_background": "light"
     },
     "output_type": "display_data"
    }
   ],
   "source": [
    "plt.figure(figsize=(12,8))\n",
    "ax2 = sns.barplot(x=df['listed_in'].value_counts().head(10).index, y = df['listed_in'].value_counts().head(10).values,palette='Set2')\n",
    "plt.xticks(rotation=60)"
   ]
  },
  {
   "cell_type": "code",
   "execution_count": 21,
   "id": "synthetic-mitchell",
   "metadata": {},
   "outputs": [
    {
     "data": {
      "image/png": "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\n",
      "text/plain": [
       "<Figure size 720x504 with 1 Axes>"
      ]
     },
     "metadata": {
      "needs_background": "light"
     },
     "output_type": "display_data"
    }
   ],
   "source": [
    "plt.figure(figsize=(10,7))\n",
    "plt.xlabel('year')\n",
    "plt.ylabel('counts')\n",
    "ax3 = sns.lineplot(x=df['release_year'].value_counts().head(10).index, y=df['release_year'].value_counts().head(10).values,palette='Set2')"
   ]
  },
  {
<<<<<<< 198c5de9d9d8361d5efa52a3605818608da8e741
   "cell_type": "code",
   "execution_count": 25,
   "id": "configured-garage",
   "metadata": {},
   "outputs": [
    {
     "name": "stderr",
     "output_type": "stream",
     "text": [
      "[nltk_data] Downloading package stopwords to\n",
      "[nltk_data]     C:\\Users\\JDhyeok\\AppData\\Roaming\\nltk_data...\n",
      "[nltk_data]   Unzipping corpora\\stopwords.zip.\n"
     ]
    },
    {
     "data": {
      "text/plain": [
       "True"
      ]
     },
     "execution_count": 25,
     "metadata": {},
     "output_type": "execute_result"
    }
   ],
   "source": [
    "import nltk\n",
    "from nltk.corpus import stopwords\n",
    "from nltk.tokenize import RegexpTokenizer\n",
    "nltk.download('stopwords')"
   ]
  },
  {
   "cell_type": "code",
   "execution_count": 38,
   "id": "rolled-setup",
   "metadata": {},
   "outputs": [],
   "source": [
    "def removeNonAscii(s):\n",
    "    return \"\".join(i for i in s if ord(i)<128)\n",
    "\n",
    "def make_lower_case(text):\n",
    "    return text.lower()\n",
    "\n",
    "def removeStopword(text):\n",
    "    text = text.split()\n",
    "    stops = set(stopwords.words(\"english\"))\n",
    "    text = [w for w in text if not w in stops]\n",
    "    text = \" \".join(text)\n",
    "    return text\n",
    "    \n",
    "def removePunctuation(text):\n",
    "    tokenizer = RegexpTokenizer(r'[a-zA-Z]+')\n",
    "    text = tokenizer.tokenize(text)\n",
    "    text = \" \".join(text)\n",
    "    return text"
   ]
  },
  {
   "cell_type": "code",
   "execution_count": 39,
   "id": "classified-automation",
   "metadata": {},
   "outputs": [
    {
     "data": {
      "text/plain": [
       "0    future elite inhabit island paradise far crowd...\n",
       "1    devastating earthquake hits mexico city trappe...\n",
       "2    army recruit found dead fellow soldiers forced...\n",
       "3    postapocalyptic world rag doll robots hide fea...\n",
       "4    brilliant group students become card counting ...\n",
       "Name: cleaned, dtype: object"
      ]
     },
     "execution_count": 39,
     "metadata": {},
     "output_type": "execute_result"
    }
   ],
   "source": [
    "df['cleaned'] = df['description'].apply(removeNonAscii)\n",
    "df['cleaned'] = df.cleaned.apply(make_lower_case)\n",
    "df['cleaned'] = df.cleaned.apply(removeStopword)\n",
    "df['cleaned'] = df.cleaned.apply(removePunctuation)\n",
    "df['cleaned'][:5]"
   ]
  },
  {
   "cell_type": "code",
   "execution_count": 43,
   "id": "literary-concrete",
   "metadata": {},
   "outputs": [
    {
     "data": {
      "text/plain": [
       "0"
      ]
     },
     "execution_count": 43,
     "metadata": {},
     "output_type": "execute_result"
    }
   ],
   "source": [
    "df['cleaned'].isnull().sum()"
   ]
  },
  {
   "cell_type": "code",
   "execution_count": 48,
   "id": "polished-spelling",
   "metadata": {},
   "outputs": [],
   "source": [
    "corpus = []\n",
    "for words in df['cleaned']:\n",
    "    corpus.append(words.split())"
   ]
  },
  {
   "cell_type": "markdown",
   "id": "stupid-playback",
   "metadata": {},
   "source": [
    "## Using pretrained model"
   ]
  },
  {
   "cell_type": "code",
   "execution_count": 47,
   "id": "discrete-canal",
   "metadata": {},
   "outputs": [
    {
     "data": {
      "text/plain": [
       "('GoogleNews-vectors-negative300.bin.gz',\n",
       " <http.client.HTTPMessage at 0x1cc23cc9130>)"
      ]
     },
     "execution_count": 47,
     "metadata": {},
     "output_type": "execute_result"
    }
   ],
   "source": [
    "import urllib\n",
    "urllib.request.urlretrieve(\"https://s3.amazonaws.com/dl4j-distribution/GoogleNews-vectors-negative300.bin.gz\", \\\n",
    "                           filename=\"GoogleNews-vectors-negative300.bin.gz\")"
   ]
  },
  {
   "cell_type": "code",
   "execution_count": 52,
   "id": "specialized-dominican",
   "metadata": {},
   "outputs": [
    {
     "data": {
      "text/plain": [
       "(0, 0)"
      ]
     },
     "execution_count": 52,
     "metadata": {},
     "output_type": "execute_result"
    }
   ],
   "source": [
    "from gensim.models import Word2Vec\n",
    "from gensim.models import KeyedVectors\n",
    "\n",
    "word2vec_model = Word2Vec(size = 300, window=5, min_count = 2, workers = -1)\n",
    "word2vec_model.build_vocab(corpus)\n",
    "word2vec_model.intersect_word2vec_format('GoogleNews-vectors-negative300.bin.gz', lockf=1.0, binary=True)\n",
    "word2vec_model.train(corpus, total_examples = word2vec_model.corpus_count, epochs = 15)"
   ]
  },
  {
   "cell_type": "code",
   "execution_count": null,
   "id": "stunning-fabric",
   "metadata": {},
   "outputs": [],
   "source": []
=======
   "cell_type": "markdown",
   "id": "widespread-service",
   "metadata": {},
   "source": [
    "## Data Cleaning"
   ]
  },
  {
   "cell_type": "code",
   "execution_count": 25,
   "id": "configured-garage",
   "metadata": {},
   "outputs": [
    {
     "name": "stderr",
     "output_type": "stream",
     "text": [
      "[nltk_data] Downloading package stopwords to\n",
      "[nltk_data]     C:\\Users\\JDhyeok\\AppData\\Roaming\\nltk_data...\n",
      "[nltk_data]   Unzipping corpora\\stopwords.zip.\n"
     ]
    },
    {
     "data": {
      "text/plain": [
       "True"
      ]
     },
     "execution_count": 25,
     "metadata": {},
     "output_type": "execute_result"
    }
   ],
   "source": [
    "import nltk\n",
    "from nltk.corpus import stopwords\n",
    "from nltk.tokenize import RegexpTokenizer\n",
    "nltk.download('stopwords')"
   ]
  },
  {
   "cell_type": "code",
   "execution_count": 38,
   "id": "rolled-setup",
   "metadata": {},
   "outputs": [],
   "source": [
    "def removeNonAscii(s):\n",
    "    return \"\".join(i for i in s if ord(i)<128)\n",
    "\n",
    "def make_lower_case(text):\n",
    "    return text.lower()\n",
    "\n",
    "def removeStopword(text):\n",
    "    text = text.split()\n",
    "    stops = set(stopwords.words(\"english\"))\n",
    "    text = [w for w in text if not w in stops]\n",
    "    text = \" \".join(text)\n",
    "    return text\n",
    "    \n",
    "def removePunctuation(text):\n",
    "    tokenizer = RegexpTokenizer(r'[a-zA-Z]+')\n",
    "    text = tokenizer.tokenize(text)\n",
    "    text = \" \".join(text)\n",
    "    return text"
   ]
  },
  {
   "cell_type": "code",
   "execution_count": 39,
   "id": "classified-automation",
   "metadata": {},
   "outputs": [
    {
     "data": {
      "text/plain": [
       "0    future elite inhabit island paradise far crowd...\n",
       "1    devastating earthquake hits mexico city trappe...\n",
       "2    army recruit found dead fellow soldiers forced...\n",
       "3    postapocalyptic world rag doll robots hide fea...\n",
       "4    brilliant group students become card counting ...\n",
       "Name: cleaned, dtype: object"
      ]
     },
     "execution_count": 39,
     "metadata": {},
     "output_type": "execute_result"
    }
   ],
   "source": [
    "df['cleaned'] = df['description'].apply(removeNonAscii)\n",
    "df['cleaned'] = df.cleaned.apply(make_lower_case)\n",
    "df['cleaned'] = df.cleaned.apply(removeStopword)\n",
    "df['cleaned'] = df.cleaned.apply(removePunctuation)\n",
    "df['cleaned'][:5]"
   ]
  },
  {
   "cell_type": "code",
   "execution_count": 43,
   "id": "literary-concrete",
   "metadata": {},
   "outputs": [
    {
     "data": {
      "text/plain": [
       "0"
      ]
     },
     "execution_count": 43,
     "metadata": {},
     "output_type": "execute_result"
    }
   ],
   "source": [
    "df['cleaned'].isnull().sum()"
   ]
  },
  {
   "cell_type": "code",
   "execution_count": 48,
   "id": "polished-spelling",
   "metadata": {},
   "outputs": [],
   "source": [
    "corpus = []\n",
    "for words in df['cleaned']:\n",
    "    corpus.append(words.split())"
   ]
  },
  {
   "cell_type": "markdown",
   "id": "stupid-playback",
   "metadata": {},
   "source": [
    "## Using pretrained model"
   ]
  },
  {
   "cell_type": "code",
   "execution_count": 47,
   "id": "discrete-canal",
   "metadata": {},
   "outputs": [
    {
     "data": {
      "text/plain": [
       "('GoogleNews-vectors-negative300.bin.gz',\n",
       " <http.client.HTTPMessage at 0x1cc23cc9130>)"
      ]
     },
     "execution_count": 47,
     "metadata": {},
     "output_type": "execute_result"
    }
   ],
   "source": [
    "import urllib\n",
    "urllib.request.urlretrieve(\"https://s3.amazonaws.com/dl4j-distribution/GoogleNews-vectors-negative300.bin.gz\", \\\n",
    "                           filename=\"GoogleNews-vectors-negative300.bin.gz\")"
   ]
  },
  {
   "cell_type": "code",
   "execution_count": 52,
   "id": "specialized-dominican",
   "metadata": {},
   "outputs": [
    {
     "data": {
      "text/plain": [
       "(0, 0)"
      ]
     },
     "execution_count": 52,
     "metadata": {},
     "output_type": "execute_result"
    }
   ],
   "source": [
    "from gensim.models import Word2Vec\n",
    "from gensim.models import KeyedVectors\n",
    "\n",
    "word2vec_model = Word2Vec(size = 300, window=5, min_count = 2, workers = -1)\n",
    "word2vec_model.build_vocab(corpus)\n",
    "word2vec_model.intersect_word2vec_format('GoogleNews-vectors-negative300.bin.gz', lockf=1.0, binary=True)\n",
    "word2vec_model.train(corpus, total_examples = word2vec_model.corpus_count, epochs = 15)"
   ]
  },
  {
   "cell_type": "code",
   "execution_count": null,
   "id": "stunning-fabric",
   "metadata": {},
   "outputs": [],
   "source": [
    "def recommendation(title):\n",
    "    "
   ]
>>>>>>> fix: fix data
  }
 ],
 "metadata": {
  "kernelspec": {
   "display_name": "Python 3",
   "language": "python",
   "name": "python3"
  },
  "language_info": {
   "codemirror_mode": {
    "name": "ipython",
    "version": 3
   },
   "file_extension": ".py",
   "mimetype": "text/x-python",
   "name": "python",
   "nbconvert_exporter": "python",
   "pygments_lexer": "ipython3",
   "version": "3.8.5"
  }
 },
 "nbformat": 4,
 "nbformat_minor": 5
}
